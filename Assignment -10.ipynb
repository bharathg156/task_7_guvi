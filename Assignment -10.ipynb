{
 "cells": [
  {
   "cell_type": "markdown",
   "id": "c7728964",
   "metadata": {},
   "source": [
    "# Assignment 10\n",
    "You are provided with a dataset from USA Forensic Science Service\n",
    "which has description of 6 types of glass; defined in terms of their\n",
    "oxide content (i.e. Na, Fe, K, etc). Your task is to use K-Nearest\n",
    "Neighbor (KNN) classifier to classify the glasses.\n",
    "The original dataset is available at\n",
    "(https://archive.ics.uci.edu/ml/datasets/glass+identification). For\n",
    "detailed description on the attributes of the dataset,\n",
    "please refer to the original link of the dataset in the UCI ML\n",
    "repository.\n",
    "But the shared drive folder have the dataset for your convenience\n",
    "perform exploratory data analysis on the dataset using Python Pandas,\n",
    "including dropping irrelevant fields for predicted values, and\n",
    "standardization of each attribute.\n",
    "Following data cleaning, two Scikit-Learn KNN models should be created\n",
    "for two different distance metrics: Square Euclidean and Manhattan\n",
    "distance. The performance of the two models using different distance\n",
    "metrics should be compared in terms of accuracy to the test data and\n",
    "Scikit-Learn Classification Report."
   ]
  },
  {
   "cell_type": "code",
   "execution_count": 2,
   "id": "42d58ad0",
   "metadata": {},
   "outputs": [],
   "source": [
    "import pandas as pd           \n",
    "import numpy as np                                             \n",
    "from sklearn.model_selection import train_test_split       \n",
    "from sklearn.preprocessing import StandardScaler\n",
    "from sklearn.neighbors import KNeighborsClassifier\n",
    "from sklearn.metrics import accuracy_score, classification_report\n",
    "import seaborn as sns\n",
    "import matplotlib.pyplot as plt"
   ]
  },
  {
   "cell_type": "code",
   "execution_count": 3,
   "id": "1d949e06",
   "metadata": {},
   "outputs": [],
   "source": [
    "column_names = ['Id', 'RI', 'Na', 'Mg', 'Al', 'Si', 'K', 'Ca', 'Ba', 'Fe', 'Type']\n",
    "data = pd.read_csv('trainKNN.txt', names=column_names)"
   ]
  },
  {
   "cell_type": "code",
   "execution_count": 4,
   "id": "18c463bc",
   "metadata": {},
   "outputs": [],
   "source": [
    "data.drop('Id', axis=1, inplace=True)"
   ]
  },
  {
   "cell_type": "code",
   "execution_count": 5,
   "id": "091e715e",
   "metadata": {},
   "outputs": [
    {
     "name": "stdout",
     "output_type": "stream",
     "text": [
      "Dataset Shape:\n",
      "(196, 10)\n"
     ]
    }
   ],
   "source": [
    "print(\"Dataset Shape:\")\n",
    "print(data.shape)"
   ]
  },
  {
   "cell_type": "code",
   "execution_count": 6,
   "id": "4b906bc5",
   "metadata": {},
   "outputs": [
    {
     "name": "stdout",
     "output_type": "stream",
     "text": [
      "\n",
      "First 5 rows of the dataset:\n",
      "        RI     Na    Mg    Al     Si     K    Ca   Ba   Fe  Type\n",
      "0  1.52101  13.64  4.49  1.10  71.78  0.06  8.75  0.0  0.0     1\n",
      "1  1.51761  13.89  3.60  1.36  72.73  0.48  7.83  0.0  0.0     1\n",
      "2  1.51618  13.53  3.55  1.54  72.99  0.39  7.78  0.0  0.0     1\n",
      "3  1.51766  13.21  3.69  1.29  72.61  0.57  8.22  0.0  0.0     1\n",
      "4  1.51742  13.27  3.62  1.24  73.08  0.55  8.07  0.0  0.0     1\n"
     ]
    }
   ],
   "source": [
    "print(\"\\nFirst 5 rows of the dataset:\")\n",
    "print(data.head())\n"
   ]
  },
  {
   "cell_type": "code",
   "execution_count": 7,
   "id": "542a87b3",
   "metadata": {},
   "outputs": [
    {
     "name": "stdout",
     "output_type": "stream",
     "text": [
      "\n",
      "Summary Statistics:\n",
      "               RI          Na          Mg          Al          Si           K  \\\n",
      "count  196.000000  196.000000  196.000000  196.000000  196.000000  196.000000   \n",
      "mean     1.518295   13.375204    2.758980    1.454337   72.635408    0.519388   \n",
      "std      0.003055    0.783145    1.392641    0.491688    0.763578    0.672703   \n",
      "min      1.511310   10.730000    0.000000    0.290000   69.810000    0.000000   \n",
      "25%      1.516458   12.877500    2.362500    1.190000   72.317500    0.140000   \n",
      "50%      1.517630   13.280000    3.480000    1.360000   72.810000    0.560000   \n",
      "75%      1.518985   13.792500    3.610000    1.622500   73.080000    0.610000   \n",
      "max      1.533930   15.790000    4.490000    3.500000   75.180000    6.210000   \n",
      "\n",
      "               Ca          Ba          Fe        Type  \n",
      "count  196.000000  196.000000  196.000000  196.000000  \n",
      "mean     8.910714    0.164235    0.050255    2.668367  \n",
      "std      1.421490    0.485198    0.086359    2.062416  \n",
      "min      5.430000    0.000000    0.000000    1.000000  \n",
      "25%      8.220000    0.000000    0.000000    1.000000  \n",
      "50%      8.575000    0.000000    0.000000    2.000000  \n",
      "75%      9.092500    0.000000    0.090000    3.000000  \n",
      "max     16.190000    3.150000    0.340000    7.000000  \n"
     ]
    }
   ],
   "source": [
    "print(\"\\nSummary Statistics:\")\n",
    "print(data.describe())\n"
   ]
  },
  {
   "cell_type": "code",
   "execution_count": 8,
   "id": "2ae29665",
   "metadata": {},
   "outputs": [
    {
     "name": "stdout",
     "output_type": "stream",
     "text": [
      "\n",
      "Number of unique values in each column:\n",
      "RI      164\n",
      "Na      136\n",
      "Mg       90\n",
      "Al      111\n",
      "Si      124\n",
      "K        65\n",
      "Ca      133\n",
      "Ba       30\n",
      "Fe       28\n",
      "Type      6\n",
      "dtype: int64\n"
     ]
    }
   ],
   "source": [
    "print(\"\\nNumber of unique values in each column:\")\n",
    "print(data.nunique())\n"
   ]
  },
  {
   "cell_type": "code",
   "execution_count": 9,
   "id": "77d4553c",
   "metadata": {},
   "outputs": [
    {
     "name": "stdout",
     "output_type": "stream",
     "text": [
      "\n",
      "Correlation Matrix:\n",
      "            RI        Na        Mg        Al        Si         K        Ca  \\\n",
      "RI    1.000000 -0.158559 -0.153610 -0.446641 -0.530520 -0.296570  0.821277   \n",
      "Na   -0.158559  1.000000 -0.216384  0.234219 -0.196462 -0.248626 -0.278983   \n",
      "Mg   -0.153610 -0.216384  1.000000 -0.520530 -0.095263 -0.039185 -0.461244   \n",
      "Al   -0.446641  0.234219 -0.520530  1.000000  0.010147  0.335160 -0.284701   \n",
      "Si   -0.530520 -0.196462 -0.095263  0.010147  1.000000 -0.181488 -0.197767   \n",
      "K    -0.296570 -0.248626 -0.039185  0.335160 -0.181488  1.000000 -0.321540   \n",
      "Ca    0.821277 -0.278983 -0.461244 -0.284701 -0.197767 -0.321540  1.000000   \n",
      "Ba    0.009425  0.336526 -0.488494  0.477098 -0.162194 -0.019632 -0.100585   \n",
      "Fe    0.104980 -0.250335  0.066167 -0.067659 -0.058347 -0.011720  0.120076   \n",
      "Type -0.166670  0.484154 -0.714713  0.640944  0.092812  0.029423 -0.019545   \n",
      "\n",
      "            Ba        Fe      Type  \n",
      "RI    0.009425  0.104980 -0.166670  \n",
      "Na    0.336526 -0.250335  0.484154  \n",
      "Mg   -0.488494  0.066167 -0.714713  \n",
      "Al    0.477098 -0.067659  0.640944  \n",
      "Si   -0.162194 -0.058347  0.092812  \n",
      "K    -0.019632 -0.011720  0.029423  \n",
      "Ca   -0.100585  0.120076 -0.019545  \n",
      "Ba    1.000000 -0.030133  0.566769  \n",
      "Fe   -0.030133  1.000000 -0.227560  \n",
      "Type  0.566769 -0.227560  1.000000  \n"
     ]
    }
   ],
   "source": [
    "print(\"\\nCorrelation Matrix:\")\n",
    "print(data.corr())"
   ]
  },
  {
   "cell_type": "code",
   "execution_count": 10,
   "id": "841296fa",
   "metadata": {},
   "outputs": [
    {
     "data": {
      "image/png": "[encoded data removed]",
      "text/plain": [
       "<Figure size 576x432 with 1 Axes>"
      ]
     },
     "metadata": {
      "needs_background": "light"
     },
     "output_type": "display_data"
    }
   ],
   "source": [
    "class_counts = data['Type'].value_counts()\n",
    "plt.figure(figsize=(8, 6))\n",
    "sns.barplot(x=class_counts.index, y=class_counts.values)\n",
    "plt.xlabel('Glass Type')\n",
    "plt.ylabel('Count')\n",
    "plt.tight_layout()\n",
    "plt.show()"
   ]
  },
  {
   "cell_type": "code",
   "execution_count": 12,
   "id": "5c4e6ccc",
   "metadata": {},
   "outputs": [
    {
     "data": {
      "image/png": "[encoded data removed]",
      "text/plain": [
       "<Figure size 720x576 with 2 Axes>"
      ]
     },
     "metadata": {
      "needs_background": "light"
     },
     "output_type": "display_data"
    }
   ],
   "source": [
    "# Attribute Correlation (Heatmap)\n",
    "correlation_matrix = data.corr()\n",
    "plt.figure(figsize=(10, 8))\n",
    "sns.heatmap(correlation_matrix, annot=True, cmap='coolwarm')\n",
    "plt.tight_layout()\n",
    "plt.show()"
   ]
  },
  {
   "cell_type": "code",
   "execution_count": 13,
   "id": "b8a10937",
   "metadata": {},
   "outputs": [],
   "source": [
    "X = data.drop('Type', axis=1)\n",
    "y = data['Type']"
   ]
  },
  {
   "cell_type": "code",
   "execution_count": 14,
   "id": "3f34d24b",
   "metadata": {},
   "outputs": [],
   "source": [
    "X_train, X_test, y_train, y_test = train_test_split(X, y, test_size=0.2, random_state=42)\n"
   ]
  },
  {
   "cell_type": "code",
   "execution_count": 15,
   "id": "990ba28f",
   "metadata": {},
   "outputs": [],
   "source": [
    "scaler = StandardScaler()\n",
    "X_train = scaler.fit_transform(X_train)\n",
    "X_test = scaler.transform(X_test)"
   ]
  },
  {
   "cell_type": "code",
   "execution_count": 16,
   "id": "1d3d75a0",
   "metadata": {},
   "outputs": [],
   "source": [
    "knn_euclidean = KNeighborsClassifier(n_neighbors=3, metric='euclidean')\n",
    "knn_manhattan = KNeighborsClassifier(n_neighbors=3, metric='manhattan')"
   ]
  },
  {
   "cell_type": "code",
   "execution_count": 17,
   "id": "faa058cf",
   "metadata": {},
   "outputs": [
    {
     "data": {
      "text/plain": [
       "KNeighborsClassifier(metric='manhattan', n_neighbors=3)"
      ]
     },
     "execution_count": 17,
     "metadata": {},
     "output_type": "execute_result"
    }
   ],
   "source": [
    "\n",
    "knn_euclidean.fit(X_train, y_train)\n",
    "knn_manhattan.fit(X_train, y_train)\n"
   ]
  },
  {
   "cell_type": "code",
   "execution_count": 18,
   "id": "27b8db07",
   "metadata": {},
   "outputs": [],
   "source": [
    "y_pred_euclidean = knn_euclidean.predict(X_test)\n",
    "y_pred_manhattan = knn_manhattan.predict(X_test)"
   ]
  },
  {
   "cell_type": "code",
   "execution_count": 19,
   "id": "b4762b87",
   "metadata": {},
   "outputs": [],
   "source": [
    "accuracy_euclidean = accuracy_score(y_test, y_pred_euclidean)\n",
    "accuracy_manhattan = accuracy_score(y_test, y_pred_manhattan)"
   ]
  },
  {
   "cell_type": "code",
   "execution_count": 20,
   "id": "01d9abbe",
   "metadata": {},
   "outputs": [
    {
     "name": "stdout",
     "output_type": "stream",
     "text": [
      "\n",
      "Accuracy (Euclidean): 0.675\n",
      "Accuracy (Manhattan): 0.75\n"
     ]
    }
   ],
   "source": [
    "print(\"\\nAccuracy (Euclidean):\", accuracy_euclidean)\n",
    "print(\"Accuracy (Manhattan):\", accuracy_manhattan)"
   ]
  },
  {
   "cell_type": "code",
   "execution_count": 21,
   "id": "2dd767a5",
   "metadata": {},
   "outputs": [
    {
     "name": "stderr",
     "output_type": "stream",
     "text": [
      "C:\\ProgramData\\Anaconda3\\lib\\site-packages\\sklearn\\metrics\\_classification.py:1318: UndefinedMetricWarning: Precision and F-score are ill-defined and being set to 0.0 in labels with no predicted samples. Use `zero_division` parameter to control this behavior.\n",
      "  _warn_prf(average, modifier, msg_start, len(result))\n",
      "C:\\ProgramData\\Anaconda3\\lib\\site-packages\\sklearn\\metrics\\_classification.py:1318: UndefinedMetricWarning: Precision and F-score are ill-defined and being set to 0.0 in labels with no predicted samples. Use `zero_division` parameter to control this behavior.\n",
      "  _warn_prf(average, modifier, msg_start, len(result))\n",
      "C:\\ProgramData\\Anaconda3\\lib\\site-packages\\sklearn\\metrics\\_classification.py:1318: UndefinedMetricWarning: Precision and F-score are ill-defined and being set to 0.0 in labels with no predicted samples. Use `zero_division` parameter to control this behavior.\n",
      "  _warn_prf(average, modifier, msg_start, len(result))\n"
     ]
    }
   ],
   "source": [
    "report_euclidean = classification_report(y_test, y_pred_euclidean)\n",
    "report_manhattan = classification_report(y_test, y_pred_manhattan)"
   ]
  },
  {
   "cell_type": "code",
   "execution_count": 22,
   "id": "e9eeb1d8",
   "metadata": {},
   "outputs": [
    {
     "name": "stdout",
     "output_type": "stream",
     "text": [
      "\n",
      "Classification Report (Euclidean):\n",
      "               precision    recall  f1-score   support\n",
      "\n",
      "           1       0.50      0.73      0.59        11\n",
      "           2       0.78      0.70      0.74        20\n",
      "           3       0.00      0.00      0.00         1\n",
      "           5       1.00      0.33      0.50         3\n",
      "           6       1.00      1.00      1.00         1\n",
      "           7       0.75      0.75      0.75         4\n",
      "\n",
      "    accuracy                           0.68        40\n",
      "   macro avg       0.67      0.59      0.60        40\n",
      "weighted avg       0.70      0.68      0.67        40\n",
      "\n",
      "Classification Report (Manhattan):\n",
      "               precision    recall  f1-score   support\n",
      "\n",
      "           1       0.57      0.73      0.64        11\n",
      "           2       0.89      0.80      0.84        20\n",
      "           3       0.00      0.00      0.00         1\n",
      "           5       1.00      0.67      0.80         3\n",
      "           6       1.00      1.00      1.00         1\n",
      "           7       0.75      0.75      0.75         4\n",
      "\n",
      "    accuracy                           0.75        40\n",
      "   macro avg       0.70      0.66      0.67        40\n",
      "weighted avg       0.78      0.75      0.76        40\n",
      "\n"
     ]
    }
   ],
   "source": [
    "print(\"\\nClassification Report (Euclidean):\\n\", report_euclidean)\n",
    "print(\"Classification Report (Manhattan):\\n\", report_manhattan)\n"
   ]
  },
  {
   "cell_type": "markdown",
   "id": "c47d3727",
   "metadata": {},
   "source": [
    "From the above comparision, knn with manhattan distance is better than the knn with squared euclidean distance"
   ]
  },
  {
   "cell_type": "code",
   "execution_count": null,
   "id": "0ea79de5",
   "metadata": {},
   "outputs": [],
   "source": []
  },
  {
   "cell_type": "code",
   "execution_count": null,
   "id": "acad3bc9",
   "metadata": {},
   "outputs": [],
   "source": []
  }
 ],
 "metadata": {
  "kernelspec": {
   "display_name": "Python 3 (ipykernel)",
   "language": "python",
   "name": "python3"
  },
  "language_info": {
   "codemirror_mode": {
    "name": "ipython",
    "version": 3
   },
   "file_extension": ".py",
   "mimetype": "text/x-python",
   "name": "python",
   "nbconvert_exporter": "python",
   "pygments_lexer": "ipython3",
   "version": "3.9.12"
  }
 },
 "nbformat": 4,
 "nbformat_minor": 5
}
